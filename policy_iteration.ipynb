{
 "cells": [
  {
   "cell_type": "code",
   "execution_count": 3,
   "metadata": {},
   "outputs": [
    {
     "data": {
      "text/plain": [
       "(0, {'prob': 1})"
      ]
     },
     "execution_count": 3,
     "metadata": {},
     "output_type": "execute_result"
    }
   ],
   "source": [
    "import gymnasium as gym\n",
    "import numpy as np\n",
    "\n",
    "env = gym.make('FrozenLake-v1',desc=None,map_name='4x4',is_slippery=True)\n",
    "env.reset()"
   ]
  },
  {
   "cell_type": "code",
   "execution_count": 4,
   "metadata": {},
   "outputs": [],
   "source": [
    "ns = env.observation_space.n\n",
    "num_episodes = 10000\n",
    "discount_rate = 0.9\n",
    "\n",
    "def MCLearning(env, num_eposides, discout_rate):\n",
    "    sum_return = np.zeros(ns)\n",
    "    num_visit_of_states = np.zeros(ns)\n",
    "    V = np.zeros(ns)\n",
    "    for episode in range(num_episodes):\n",
    "        ep_visited = []\n",
    "        ep_reward  = []\n",
    "        current_state, prob = env.reset()\n",
    "        ep_visited.append(current_state)\n",
    "        while True:\n",
    "            a = env.action_space.sample()\n",
    "            next_state, r, done, prob,_ = env.step(a)\n",
    "            ep_reward.append(r)\n",
    "            if done:\n",
    "                break\n",
    "            else:\n",
    "                ep_visited.append(next_state)\n",
    "        \n",
    "        G=0\n",
    "        for i in range(len(ep_visited)-1,-1,-1):\n",
    "            temp_state = ep_visited[i]\n",
    "            temp_reward = ep_reward[i]\n",
    "            G = discount_rate*G + temp_reward\n",
    "            if temp_state not in ep_visited[0:i]:\n",
    "                num_visit_of_states[temp_state] += 1\n",
    "                sum_return[temp_state] += G\n",
    "\n",
    "    for i in range(ns):\n",
    "        if num_visit_of_states[i] != 0:\n",
    "            V[i] = sum_return[i]/num_visit_of_states[i]\n",
    "\n",
    "    return V"
   ]
  },
  {
   "cell_type": "code",
   "execution_count": 5,
   "metadata": {},
   "outputs": [],
   "source": [
    "def evaluate_policy(env, V, policy, discount_rate, max_iter, tol):\n",
    "    conv_track = []\n",
    "    for iteration in range(max_iter):\n",
    "        conv_track.append(np.linalg.norm(V))\n",
    "        V_new = np.zeros(ns)\n",
    "        for state in env.P:\n",
    "            outer_sum = 0\n",
    "            for action in env.P[state]:\n",
    "                inner_sum = 0\n",
    "                for prob, next_state, reward, done in env.P[state][action]:\n",
    "                    inner_sum += prob*(reward + discount_rate*V[next_state])\n",
    "                outer_sum += policy[state][action]*inner_sum\n",
    "            V_new[state] = outer_sum\n",
    "        if(np.max(np.abs(V_new-V)) < tol):\n",
    "            break\n",
    "        V=V_new\n",
    "    return V"
   ]
  }
 ],
 "metadata": {
  "kernelspec": {
   "display_name": "rl",
   "language": "python",
   "name": "python3"
  },
  "language_info": {
   "codemirror_mode": {
    "name": "ipython",
    "version": 3
   },
   "file_extension": ".py",
   "mimetype": "text/x-python",
   "name": "python",
   "nbconvert_exporter": "python",
   "pygments_lexer": "ipython3",
   "version": "3.10.13"
  }
 },
 "nbformat": 4,
 "nbformat_minor": 2
}
